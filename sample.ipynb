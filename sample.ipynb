{
 "cells": [
  {
   "cell_type": "markdown",
   "id": "aca9881b-b2ea-4aad-957f-a982e700bcb0",
   "metadata": {},
   "source": [
    "# Walthru sample notebook"
   ]
  },
  {
   "cell_type": "markdown",
   "id": "45a39b21-0ed7-4495-9041-b852cbdfdf9b",
   "metadata": {},
   "source": [
    "Here is how I calculate 1+1:"
   ]
  },
  {
   "cell_type": "code",
   "execution_count": 2,
   "id": "c66c33f7-4380-4c16-9305-00a6a74f5c37",
   "metadata": {},
   "outputs": [
    {
     "data": {
      "text/plain": [
       "2"
      ]
     },
     "execution_count": 2,
     "metadata": {},
     "output_type": "execute_result"
    }
   ],
   "source": [
    "1+1"
   ]
  },
  {
   "cell_type": "code",
   "execution_count": 3,
   "id": "fcb5c493-598e-4a7c-bcf9-3dc63f78a649",
   "metadata": {},
   "outputs": [],
   "source": [
    "from numpy import *"
   ]
  },
  {
   "cell_type": "markdown",
   "id": "8f865325-8d1e-4920-b03c-060beda9c10f",
   "metadata": {},
   "source": [
    "Here is how I calculate 'sin':"
   ]
  },
  {
   "cell_type": "code",
   "execution_count": 4,
   "id": "e905c47d-0c73-4fe6-8d98-c9e612a8e926",
   "metadata": {},
   "outputs": [
    {
     "data": {
      "text/plain": [
       "array([0.84147098, 1.        ])"
      ]
     },
     "execution_count": 4,
     "metadata": {},
     "output_type": "execute_result"
    }
   ],
   "source": [
    "a = array([1.0, pi/2])\n",
    "sin(a)"
   ]
  }
 ],
 "metadata": {
  "kernelspec": {
   "display_name": "Python 3 (ipykernel)",
   "language": "python",
   "name": "python3"
  },
  "language_info": {
   "codemirror_mode": {
    "name": "ipython",
    "version": 3
   },
   "file_extension": ".py",
   "mimetype": "text/x-python",
   "name": "python",
   "nbconvert_exporter": "python",
   "pygments_lexer": "ipython3",
   "version": "3.10.12"
  }
 },
 "nbformat": 4,
 "nbformat_minor": 5
}
